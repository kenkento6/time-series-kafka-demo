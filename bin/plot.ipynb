{
 "cells": [
  {
   "cell_type": "code",
   "execution_count": 4,
   "metadata": {},
   "outputs": [
    {
     "name": "stdout",
     "output_type": "stream",
     "text": [
      "Requirement already satisfied: panel in /Users/michaelscott/opt/anaconda3/envs/bd4hproject/lib/python3.9/site-packages (0.14.4)\n",
      "Requirement already satisfied: pyct>=0.4.4 in /Users/michaelscott/opt/anaconda3/envs/bd4hproject/lib/python3.9/site-packages (from panel) (0.5.0)\n",
      "Requirement already satisfied: tqdm>=4.48.0 in /Users/michaelscott/opt/anaconda3/envs/bd4hproject/lib/python3.9/site-packages (from panel) (4.65.0)\n",
      "Requirement already satisfied: bleach in /Users/michaelscott/opt/anaconda3/envs/bd4hproject/lib/python3.9/site-packages (from panel) (4.1.0)\n",
      "Requirement already satisfied: requests in /Users/michaelscott/opt/anaconda3/envs/bd4hproject/lib/python3.9/site-packages (from panel) (2.28.1)\n",
      "Collecting bokeh<2.5.0,>=2.4.0\n",
      "  Using cached bokeh-2.4.3-py3-none-any.whl (18.5 MB)\n",
      "Requirement already satisfied: markdown in /Users/michaelscott/opt/anaconda3/envs/bd4hproject/lib/python3.9/site-packages (from panel) (3.4.3)\n",
      "Requirement already satisfied: setuptools>=42 in /Users/michaelscott/opt/anaconda3/envs/bd4hproject/lib/python3.9/site-packages (from panel) (65.6.3)\n",
      "Requirement already satisfied: typing-extensions in /Users/michaelscott/opt/anaconda3/envs/bd4hproject/lib/python3.9/site-packages (from panel) (4.5.0)\n",
      "Requirement already satisfied: param>=1.12.0 in /Users/michaelscott/opt/anaconda3/envs/bd4hproject/lib/python3.9/site-packages (from panel) (1.13.0)\n",
      "Requirement already satisfied: pyviz-comms>=0.7.4 in /Users/michaelscott/opt/anaconda3/envs/bd4hproject/lib/python3.9/site-packages (from panel) (2.2.1)\n",
      "Requirement already satisfied: packaging>=16.8 in /Users/michaelscott/opt/anaconda3/envs/bd4hproject/lib/python3.9/site-packages (from bokeh<2.5.0,>=2.4.0->panel) (23.0)\n",
      "Requirement already satisfied: PyYAML>=3.10 in /Users/michaelscott/opt/anaconda3/envs/bd4hproject/lib/python3.9/site-packages (from bokeh<2.5.0,>=2.4.0->panel) (6.0)\n",
      "Requirement already satisfied: Jinja2>=2.9 in /Users/michaelscott/opt/anaconda3/envs/bd4hproject/lib/python3.9/site-packages (from bokeh<2.5.0,>=2.4.0->panel) (3.1.2)\n",
      "Requirement already satisfied: pillow>=7.1.0 in /Users/michaelscott/opt/anaconda3/envs/bd4hproject/lib/python3.9/site-packages (from bokeh<2.5.0,>=2.4.0->panel) (9.4.0)\n",
      "Requirement already satisfied: numpy>=1.11.3 in /Users/michaelscott/opt/anaconda3/envs/bd4hproject/lib/python3.9/site-packages (from bokeh<2.5.0,>=2.4.0->panel) (1.23.5)\n",
      "Requirement already satisfied: tornado>=5.1 in /Users/michaelscott/opt/anaconda3/envs/bd4hproject/lib/python3.9/site-packages (from bokeh<2.5.0,>=2.4.0->panel) (6.2)\n",
      "Requirement already satisfied: six>=1.9.0 in /Users/michaelscott/opt/anaconda3/envs/bd4hproject/lib/python3.9/site-packages (from bleach->panel) (1.16.0)\n",
      "Requirement already satisfied: webencodings in /Users/michaelscott/opt/anaconda3/envs/bd4hproject/lib/python3.9/site-packages (from bleach->panel) (0.5.1)\n",
      "Requirement already satisfied: importlib-metadata>=4.4 in /Users/michaelscott/opt/anaconda3/envs/bd4hproject/lib/python3.9/site-packages (from markdown->panel) (6.4.1)\n",
      "Requirement already satisfied: idna<4,>=2.5 in /Users/michaelscott/opt/anaconda3/envs/bd4hproject/lib/python3.9/site-packages (from requests->panel) (3.4)\n",
      "Requirement already satisfied: charset-normalizer<3,>=2 in /Users/michaelscott/opt/anaconda3/envs/bd4hproject/lib/python3.9/site-packages (from requests->panel) (2.0.4)\n",
      "Requirement already satisfied: urllib3<1.27,>=1.21.1 in /Users/michaelscott/opt/anaconda3/envs/bd4hproject/lib/python3.9/site-packages (from requests->panel) (1.26.14)\n",
      "Requirement already satisfied: certifi>=2017.4.17 in /Users/michaelscott/opt/anaconda3/envs/bd4hproject/lib/python3.9/site-packages (from requests->panel) (2022.12.7)\n",
      "Requirement already satisfied: zipp>=0.5 in /Users/michaelscott/opt/anaconda3/envs/bd4hproject/lib/python3.9/site-packages (from importlib-metadata>=4.4->markdown->panel) (3.11.0)\n",
      "Requirement already satisfied: MarkupSafe>=2.0 in /Users/michaelscott/opt/anaconda3/envs/bd4hproject/lib/python3.9/site-packages (from Jinja2>=2.9->bokeh<2.5.0,>=2.4.0->panel) (2.1.2)\n",
      "Installing collected packages: bokeh\n",
      "  Attempting uninstall: bokeh\n",
      "    Found existing installation: bokeh 3.1.0\n",
      "    Uninstalling bokeh-3.1.0:\n",
      "      Successfully uninstalled bokeh-3.1.0\n",
      "\u001b[31mERROR: pip's dependency resolver does not currently take into account all the packages that are installed. This behaviour is the source of the following dependency conflicts.\n",
      "jupyter-bokeh 3.0.7 requires bokeh==3.*, but you have bokeh 2.4.3 which is incompatible.\u001b[0m\u001b[31m\n",
      "\u001b[0mSuccessfully installed bokeh-2.4.3\n"
     ]
    }
   ],
   "source": [
    "!pip install panel==0.14.1"
   ]
  },
  {
   "cell_type": "code",
   "execution_count": 5,
   "metadata": {},
   "outputs": [
    {
     "name": "stdout",
     "output_type": "stream",
     "text": [
      "Collecting jupyter_bokeh==2.0.4\n",
      "  Downloading jupyter_bokeh-2.0.4.tar.gz (1.0 MB)\n",
      "\u001b[2K     \u001b[90m━━━━━━━━━━━━━━━━━━━━━━━━━━━━━━━━━━━━━━━━\u001b[0m \u001b[32m1.0/1.0 MB\u001b[0m \u001b[31m4.3 MB/s\u001b[0m eta \u001b[36m0:00:00\u001b[0m00:01\u001b[0m00:01\u001b[0m\n",
      "\u001b[?25h  Preparing metadata (setup.py) ... \u001b[?25ldone\n",
      "\u001b[?25hRequirement already satisfied: bokeh>=2.0.0 in /Users/michaelscott/opt/anaconda3/envs/bd4hproject/lib/python3.9/site-packages (from jupyter_bokeh==2.0.4) (3.1.0)\n",
      "Requirement already satisfied: ipywidgets>=7.5.0 in /Users/michaelscott/opt/anaconda3/envs/bd4hproject/lib/python3.9/site-packages (from jupyter_bokeh==2.0.4) (8.0.6)\n",
      "Requirement already satisfied: PyYAML>=3.10 in /Users/michaelscott/opt/anaconda3/envs/bd4hproject/lib/python3.9/site-packages (from bokeh>=2.0.0->jupyter_bokeh==2.0.4) (6.0)\n",
      "Requirement already satisfied: contourpy>=1 in /Users/michaelscott/opt/anaconda3/envs/bd4hproject/lib/python3.9/site-packages (from bokeh>=2.0.0->jupyter_bokeh==2.0.4) (1.0.5)\n",
      "Requirement already satisfied: pandas>=1.2 in /Users/michaelscott/opt/anaconda3/envs/bd4hproject/lib/python3.9/site-packages (from bokeh>=2.0.0->jupyter_bokeh==2.0.4) (1.5.3)\n",
      "Requirement already satisfied: tornado>=5.1 in /Users/michaelscott/opt/anaconda3/envs/bd4hproject/lib/python3.9/site-packages (from bokeh>=2.0.0->jupyter_bokeh==2.0.4) (6.2)\n",
      "Requirement already satisfied: xyzservices>=2021.09.1 in /Users/michaelscott/opt/anaconda3/envs/bd4hproject/lib/python3.9/site-packages (from bokeh>=2.0.0->jupyter_bokeh==2.0.4) (2023.2.0)\n",
      "Requirement already satisfied: Jinja2>=2.9 in /Users/michaelscott/opt/anaconda3/envs/bd4hproject/lib/python3.9/site-packages (from bokeh>=2.0.0->jupyter_bokeh==2.0.4) (3.1.2)\n",
      "Requirement already satisfied: packaging>=16.8 in /Users/michaelscott/opt/anaconda3/envs/bd4hproject/lib/python3.9/site-packages (from bokeh>=2.0.0->jupyter_bokeh==2.0.4) (23.0)\n",
      "Requirement already satisfied: numpy>=1.16 in /Users/michaelscott/opt/anaconda3/envs/bd4hproject/lib/python3.9/site-packages (from bokeh>=2.0.0->jupyter_bokeh==2.0.4) (1.23.5)\n",
      "Requirement already satisfied: pillow>=7.1.0 in /Users/michaelscott/opt/anaconda3/envs/bd4hproject/lib/python3.9/site-packages (from bokeh>=2.0.0->jupyter_bokeh==2.0.4) (9.4.0)\n",
      "Requirement already satisfied: widgetsnbextension~=4.0.7 in /Users/michaelscott/opt/anaconda3/envs/bd4hproject/lib/python3.9/site-packages (from ipywidgets>=7.5.0->jupyter_bokeh==2.0.4) (4.0.7)\n",
      "Requirement already satisfied: traitlets>=4.3.1 in /Users/michaelscott/opt/anaconda3/envs/bd4hproject/lib/python3.9/site-packages (from ipywidgets>=7.5.0->jupyter_bokeh==2.0.4) (5.7.1)\n",
      "Requirement already satisfied: ipykernel>=4.5.1 in /Users/michaelscott/opt/anaconda3/envs/bd4hproject/lib/python3.9/site-packages (from ipywidgets>=7.5.0->jupyter_bokeh==2.0.4) (6.19.2)\n",
      "Requirement already satisfied: ipython>=6.1.0 in /Users/michaelscott/opt/anaconda3/envs/bd4hproject/lib/python3.9/site-packages (from ipywidgets>=7.5.0->jupyter_bokeh==2.0.4) (8.10.0)\n",
      "Requirement already satisfied: jupyterlab-widgets~=3.0.7 in /Users/michaelscott/opt/anaconda3/envs/bd4hproject/lib/python3.9/site-packages (from ipywidgets>=7.5.0->jupyter_bokeh==2.0.4) (3.0.7)\n",
      "Requirement already satisfied: jupyter-client>=6.1.12 in /Users/michaelscott/opt/anaconda3/envs/bd4hproject/lib/python3.9/site-packages (from ipykernel>=4.5.1->ipywidgets>=7.5.0->jupyter_bokeh==2.0.4) (7.4.9)\n",
      "Requirement already satisfied: debugpy>=1.0 in /Users/michaelscott/opt/anaconda3/envs/bd4hproject/lib/python3.9/site-packages (from ipykernel>=4.5.1->ipywidgets>=7.5.0->jupyter_bokeh==2.0.4) (1.5.1)\n",
      "Requirement already satisfied: psutil in /Users/michaelscott/opt/anaconda3/envs/bd4hproject/lib/python3.9/site-packages (from ipykernel>=4.5.1->ipywidgets>=7.5.0->jupyter_bokeh==2.0.4) (5.9.0)\n",
      "Requirement already satisfied: comm>=0.1.1 in /Users/michaelscott/opt/anaconda3/envs/bd4hproject/lib/python3.9/site-packages (from ipykernel>=4.5.1->ipywidgets>=7.5.0->jupyter_bokeh==2.0.4) (0.1.2)\n",
      "Requirement already satisfied: appnope in /Users/michaelscott/opt/anaconda3/envs/bd4hproject/lib/python3.9/site-packages (from ipykernel>=4.5.1->ipywidgets>=7.5.0->jupyter_bokeh==2.0.4) (0.1.2)\n",
      "Requirement already satisfied: matplotlib-inline>=0.1 in /Users/michaelscott/opt/anaconda3/envs/bd4hproject/lib/python3.9/site-packages (from ipykernel>=4.5.1->ipywidgets>=7.5.0->jupyter_bokeh==2.0.4) (0.1.6)\n",
      "Requirement already satisfied: nest-asyncio in /Users/michaelscott/opt/anaconda3/envs/bd4hproject/lib/python3.9/site-packages (from ipykernel>=4.5.1->ipywidgets>=7.5.0->jupyter_bokeh==2.0.4) (1.5.6)\n",
      "Requirement already satisfied: pyzmq>=17 in /Users/michaelscott/opt/anaconda3/envs/bd4hproject/lib/python3.9/site-packages (from ipykernel>=4.5.1->ipywidgets>=7.5.0->jupyter_bokeh==2.0.4) (23.2.0)\n",
      "Requirement already satisfied: decorator in /Users/michaelscott/opt/anaconda3/envs/bd4hproject/lib/python3.9/site-packages (from ipython>=6.1.0->ipywidgets>=7.5.0->jupyter_bokeh==2.0.4) (5.1.1)\n",
      "Requirement already satisfied: pygments>=2.4.0 in /Users/michaelscott/opt/anaconda3/envs/bd4hproject/lib/python3.9/site-packages (from ipython>=6.1.0->ipywidgets>=7.5.0->jupyter_bokeh==2.0.4) (2.11.2)\n",
      "Requirement already satisfied: jedi>=0.16 in /Users/michaelscott/opt/anaconda3/envs/bd4hproject/lib/python3.9/site-packages (from ipython>=6.1.0->ipywidgets>=7.5.0->jupyter_bokeh==2.0.4) (0.18.1)\n",
      "Requirement already satisfied: pickleshare in /Users/michaelscott/opt/anaconda3/envs/bd4hproject/lib/python3.9/site-packages (from ipython>=6.1.0->ipywidgets>=7.5.0->jupyter_bokeh==2.0.4) (0.7.5)\n",
      "Requirement already satisfied: backcall in /Users/michaelscott/opt/anaconda3/envs/bd4hproject/lib/python3.9/site-packages (from ipython>=6.1.0->ipywidgets>=7.5.0->jupyter_bokeh==2.0.4) (0.2.0)\n",
      "Requirement already satisfied: pexpect>4.3 in /Users/michaelscott/opt/anaconda3/envs/bd4hproject/lib/python3.9/site-packages (from ipython>=6.1.0->ipywidgets>=7.5.0->jupyter_bokeh==2.0.4) (4.8.0)\n",
      "Requirement already satisfied: prompt-toolkit<3.1.0,>=3.0.30 in /Users/michaelscott/opt/anaconda3/envs/bd4hproject/lib/python3.9/site-packages (from ipython>=6.1.0->ipywidgets>=7.5.0->jupyter_bokeh==2.0.4) (3.0.36)\n",
      "Requirement already satisfied: stack-data in /Users/michaelscott/opt/anaconda3/envs/bd4hproject/lib/python3.9/site-packages (from ipython>=6.1.0->ipywidgets>=7.5.0->jupyter_bokeh==2.0.4) (0.2.0)\n",
      "Requirement already satisfied: MarkupSafe>=2.0 in /Users/michaelscott/opt/anaconda3/envs/bd4hproject/lib/python3.9/site-packages (from Jinja2>=2.9->bokeh>=2.0.0->jupyter_bokeh==2.0.4) (2.1.2)\n",
      "Requirement already satisfied: python-dateutil>=2.8.1 in /Users/michaelscott/opt/anaconda3/envs/bd4hproject/lib/python3.9/site-packages (from pandas>=1.2->bokeh>=2.0.0->jupyter_bokeh==2.0.4) (2.8.2)\n",
      "Requirement already satisfied: pytz>=2020.1 in /Users/michaelscott/opt/anaconda3/envs/bd4hproject/lib/python3.9/site-packages (from pandas>=1.2->bokeh>=2.0.0->jupyter_bokeh==2.0.4) (2022.7)\n",
      "Requirement already satisfied: parso<0.9.0,>=0.8.0 in /Users/michaelscott/opt/anaconda3/envs/bd4hproject/lib/python3.9/site-packages (from jedi>=0.16->ipython>=6.1.0->ipywidgets>=7.5.0->jupyter_bokeh==2.0.4) (0.8.3)\n",
      "Requirement already satisfied: entrypoints in /Users/michaelscott/opt/anaconda3/envs/bd4hproject/lib/python3.9/site-packages (from jupyter-client>=6.1.12->ipykernel>=4.5.1->ipywidgets>=7.5.0->jupyter_bokeh==2.0.4) (0.4)\n",
      "Requirement already satisfied: jupyter-core>=4.9.2 in /Users/michaelscott/opt/anaconda3/envs/bd4hproject/lib/python3.9/site-packages (from jupyter-client>=6.1.12->ipykernel>=4.5.1->ipywidgets>=7.5.0->jupyter_bokeh==2.0.4) (5.2.0)\n",
      "Requirement already satisfied: ptyprocess>=0.5 in /Users/michaelscott/opt/anaconda3/envs/bd4hproject/lib/python3.9/site-packages (from pexpect>4.3->ipython>=6.1.0->ipywidgets>=7.5.0->jupyter_bokeh==2.0.4) (0.7.0)\n",
      "Requirement already satisfied: wcwidth in /Users/michaelscott/opt/anaconda3/envs/bd4hproject/lib/python3.9/site-packages (from prompt-toolkit<3.1.0,>=3.0.30->ipython>=6.1.0->ipywidgets>=7.5.0->jupyter_bokeh==2.0.4) (0.2.5)\n",
      "Requirement already satisfied: six>=1.5 in /Users/michaelscott/opt/anaconda3/envs/bd4hproject/lib/python3.9/site-packages (from python-dateutil>=2.8.1->pandas>=1.2->bokeh>=2.0.0->jupyter_bokeh==2.0.4) (1.16.0)\n",
      "Requirement already satisfied: executing in /Users/michaelscott/opt/anaconda3/envs/bd4hproject/lib/python3.9/site-packages (from stack-data->ipython>=6.1.0->ipywidgets>=7.5.0->jupyter_bokeh==2.0.4) (0.8.3)\n",
      "Requirement already satisfied: asttokens in /Users/michaelscott/opt/anaconda3/envs/bd4hproject/lib/python3.9/site-packages (from stack-data->ipython>=6.1.0->ipywidgets>=7.5.0->jupyter_bokeh==2.0.4) (2.0.5)\n",
      "Requirement already satisfied: pure-eval in /Users/michaelscott/opt/anaconda3/envs/bd4hproject/lib/python3.9/site-packages (from stack-data->ipython>=6.1.0->ipywidgets>=7.5.0->jupyter_bokeh==2.0.4) (0.2.2)\n",
      "Requirement already satisfied: platformdirs>=2.5 in /Users/michaelscott/opt/anaconda3/envs/bd4hproject/lib/python3.9/site-packages (from jupyter-core>=4.9.2->jupyter-client>=6.1.12->ipykernel>=4.5.1->ipywidgets>=7.5.0->jupyter_bokeh==2.0.4) (2.5.2)\n",
      "Building wheels for collected packages: jupyter_bokeh\n",
      "  Building wheel for jupyter_bokeh (setup.py) ... \u001b[?25ldone\n",
      "\u001b[?25h  Created wheel for jupyter_bokeh: filename=jupyter_bokeh-2.0.4-py3-none-any.whl size=2059382 sha256=e09d8e6c7906cbe8d9243a669cbd873cc242f88b56ac6ed55cd8119d98726514\n",
      "  Stored in directory: /Users/michaelscott/Library/Caches/pip/wheels/d6/18/f1/60f1e29818f4abcec61a7038d01e97a6e7b93e93a788e73811\n",
      "Successfully built jupyter_bokeh\n",
      "Installing collected packages: jupyter_bokeh\n",
      "  Attempting uninstall: jupyter_bokeh\n",
      "    Found existing installation: jupyter-bokeh 3.0.7\n",
      "    Uninstalling jupyter-bokeh-3.0.7:\n",
      "      Successfully uninstalled jupyter-bokeh-3.0.7\n",
      "Successfully installed jupyter_bokeh-2.0.4\n"
     ]
    }
   ],
   "source": [
    "!pip install jupyter_bokeh==2.0.4"
   ]
  },
  {
   "cell_type": "code",
   "execution_count": null,
   "metadata": {},
   "outputs": [],
   "source": []
  },
  {
   "cell_type": "code",
   "execution_count": 7,
   "metadata": {},
   "outputs": [],
   "source": [
    "import bokeh"
   ]
  },
  {
   "cell_type": "code",
   "execution_count": 9,
   "metadata": {},
   "outputs": [],
   "source": [
    "import numpy as np\n",
    "# import panel as pn\n",
    "\n",
    "from bokeh.plotting import figure\n",
    "from bokeh.models import ColumnDataSource\n",
    "\n",
    "# pn.extension()"
   ]
  },
  {
   "cell_type": "code",
   "execution_count": 11,
   "metadata": {},
   "outputs": [
    {
     "data": {
      "text/html": [
       "<div style=\"display: table;\"><div style=\"display: table-row;\"><div style=\"display: table-cell;\"><b title=\"bokeh.models.renderers.glyph_renderer.GlyphRenderer\">GlyphRenderer</b>(</div><div style=\"display: table-cell;\">id&nbsp;=&nbsp;'p1116', <span id=\"p1120\" style=\"cursor: pointer;\">&hellip;)</span></div></div><div class=\"p1119\" style=\"display: none;\"><div style=\"display: table-cell;\"></div><div style=\"display: table-cell;\">coordinates&nbsp;=&nbsp;None,</div></div><div class=\"p1119\" style=\"display: none;\"><div style=\"display: table-cell;\"></div><div style=\"display: table-cell;\">data_source&nbsp;=&nbsp;ColumnDataSource(id='p1107', ...),</div></div><div class=\"p1119\" style=\"display: none;\"><div style=\"display: table-cell;\"></div><div style=\"display: table-cell;\">glyph&nbsp;=&nbsp;Line(id='p1113', ...),</div></div><div class=\"p1119\" style=\"display: none;\"><div style=\"display: table-cell;\"></div><div style=\"display: table-cell;\">group&nbsp;=&nbsp;None,</div></div><div class=\"p1119\" style=\"display: none;\"><div style=\"display: table-cell;\"></div><div style=\"display: table-cell;\">hover_glyph&nbsp;=&nbsp;None,</div></div><div class=\"p1119\" style=\"display: none;\"><div style=\"display: table-cell;\"></div><div style=\"display: table-cell;\">js_event_callbacks&nbsp;=&nbsp;{},</div></div><div class=\"p1119\" style=\"display: none;\"><div style=\"display: table-cell;\"></div><div style=\"display: table-cell;\">js_property_callbacks&nbsp;=&nbsp;{},</div></div><div class=\"p1119\" style=\"display: none;\"><div style=\"display: table-cell;\"></div><div style=\"display: table-cell;\">level&nbsp;=&nbsp;'glyph',</div></div><div class=\"p1119\" style=\"display: none;\"><div style=\"display: table-cell;\"></div><div style=\"display: table-cell;\">muted&nbsp;=&nbsp;False,</div></div><div class=\"p1119\" style=\"display: none;\"><div style=\"display: table-cell;\"></div><div style=\"display: table-cell;\">muted_glyph&nbsp;=&nbsp;Line(id='p1115', ...),</div></div><div class=\"p1119\" style=\"display: none;\"><div style=\"display: table-cell;\"></div><div style=\"display: table-cell;\">name&nbsp;=&nbsp;None,</div></div><div class=\"p1119\" style=\"display: none;\"><div style=\"display: table-cell;\"></div><div style=\"display: table-cell;\">nonselection_glyph&nbsp;=&nbsp;Line(id='p1114', ...),</div></div><div class=\"p1119\" style=\"display: none;\"><div style=\"display: table-cell;\"></div><div style=\"display: table-cell;\">propagate_hover&nbsp;=&nbsp;False,</div></div><div class=\"p1119\" style=\"display: none;\"><div style=\"display: table-cell;\"></div><div style=\"display: table-cell;\">selection_glyph&nbsp;=&nbsp;'auto',</div></div><div class=\"p1119\" style=\"display: none;\"><div style=\"display: table-cell;\"></div><div style=\"display: table-cell;\">subscribed_events&nbsp;=&nbsp;PropertyValueSet(),</div></div><div class=\"p1119\" style=\"display: none;\"><div style=\"display: table-cell;\"></div><div style=\"display: table-cell;\">syncable&nbsp;=&nbsp;True,</div></div><div class=\"p1119\" style=\"display: none;\"><div style=\"display: table-cell;\"></div><div style=\"display: table-cell;\">tags&nbsp;=&nbsp;[],</div></div><div class=\"p1119\" style=\"display: none;\"><div style=\"display: table-cell;\"></div><div style=\"display: table-cell;\">view&nbsp;=&nbsp;CDSView(id='p1117', ...),</div></div><div class=\"p1119\" style=\"display: none;\"><div style=\"display: table-cell;\"></div><div style=\"display: table-cell;\">visible&nbsp;=&nbsp;True,</div></div><div class=\"p1119\" style=\"display: none;\"><div style=\"display: table-cell;\"></div><div style=\"display: table-cell;\">x_range_name&nbsp;=&nbsp;'default',</div></div><div class=\"p1119\" style=\"display: none;\"><div style=\"display: table-cell;\"></div><div style=\"display: table-cell;\">y_range_name&nbsp;=&nbsp;'default')</div></div></div>\n",
       "<script>\n",
       "(function() {\n",
       "  let expanded = false;\n",
       "  const ellipsis = document.getElementById(\"p1120\");\n",
       "  ellipsis.addEventListener(\"click\", function() {\n",
       "    const rows = document.getElementsByClassName(\"p1119\");\n",
       "    for (let i = 0; i < rows.length; i++) {\n",
       "      const el = rows[i];\n",
       "      el.style.display = expanded ? \"none\" : \"table-row\";\n",
       "    }\n",
       "    ellipsis.innerHTML = expanded ? \"&hellip;)\" : \"&lsaquo;&lsaquo;&lsaquo;\";\n",
       "    expanded = !expanded;\n",
       "  });\n",
       "})();\n",
       "</script>\n"
      ],
      "text/plain": [
       "GlyphRenderer(id='p1116', ...)"
      ]
     },
     "execution_count": 11,
     "metadata": {},
     "output_type": "execute_result"
    }
   ],
   "source": [
    "p = figure(sizing_mode='stretch_width', title='Bokeh streaming example')\n",
    "\n",
    "xs = np.arange(1000)\n",
    "ys = np.random.randn(1000).cumsum()\n",
    "x, y = xs[-1], ys[-1]\n",
    "\n",
    "cds = ColumnDataSource(data={'x': xs, 'y': ys})\n",
    "\n",
    "p.line('x', 'y', source=cds)\n",
    "\n",
    "# bk_pane = pn.pane.Bokeh(p)\n",
    "# bk_pane.servable()"
   ]
  },
  {
   "cell_type": "code",
   "execution_count": 13,
   "metadata": {},
   "outputs": [],
   "source": [
    "def stream():\n",
    "    global x, y\n",
    "    x += 1\n",
    "    y += np.random.randn()\n",
    "    cds.stream({'x': [x], 'y': [y]})\n",
    "    # pn.io.push_notebook(bk_pane) # Only needed when running in notebook context\n",
    "    \n",
    "# pn.state.add_periodic_callback(stream, 100)"
   ]
  },
  {
   "cell_type": "code",
   "execution_count": null,
   "metadata": {},
   "outputs": [],
   "source": []
  }
 ],
 "metadata": {
  "kernelspec": {
   "display_name": "bd4hproject",
   "language": "python",
   "name": "python3"
  },
  "language_info": {
   "codemirror_mode": {
    "name": "ipython",
    "version": 3
   },
   "file_extension": ".py",
   "mimetype": "text/x-python",
   "name": "python",
   "nbconvert_exporter": "python",
   "pygments_lexer": "ipython3",
   "version": "3.9.16"
  }
 },
 "nbformat": 4,
 "nbformat_minor": 4
}
